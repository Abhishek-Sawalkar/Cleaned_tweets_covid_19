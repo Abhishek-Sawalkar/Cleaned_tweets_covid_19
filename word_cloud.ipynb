{
 "cells": [
  {
   "cell_type": "code",
   "execution_count": null,
   "metadata": {},
   "outputs": [],
   "source": [
    "import gensim\n",
    "from gensim import corpora\n",
    "import pandas as pd\n",
    "import numpy as np\n",
    "\n",
    "import re\n",
    "np.random.seed(2018)\n",
    "\n",
    "import nltk\n",
    "nltk.download('stopwords')\n",
    "nltk.download('wordnet')\n",
    "from nltk.corpus import stopwords \n",
    "import string\n",
    "from nltk.stem.wordnet import WordNetLemmatizer\n",
    "\n",
    "\n",
    "stop = set(stopwords.words('english'))\n",
    "exclude = set(string.punctuation) \n",
    "lemma = WordNetLemmatizer()\n",
    "\n",
    "\n",
    "\n",
    "import numpy as np\n",
    "from PIL import Image\n",
    "import matplotlib.pyplot as plt\n",
    "from wordcloud import WordCloud, STOPWORDS, ImageColorGenerator\n",
    "%matplotlib inline\n",
    "import re\n",
    "\n",
    "import pandas as pd\n",
    "\n",
    "df = pd.read_csv(\"all.csv\")\n",
    "df = pd.DataFrame(df)\n",
    "df['Text'] = df['Text'].astype(str)\n",
    "\n",
    "def clean(doc):\n",
    "    result = re.sub(r\"http\\S+\", \"\", doc)\n",
    "    result = re.sub(\"“\", \"\", result)\n",
    "    result = re.sub(\"”\", \"\", result)\n",
    "    result = re.sub(\"’\", \"\", result)\n",
    "    result = re.sub(\"'s\", \"\", result)\n",
    "    stop_free = \" \".join([i for i in result.lower().split() if i not in stop])\n",
    "    punc_free = ''.join(ch for ch in stop_free if ch not in exclude)\n",
    "    normalized = \" \".join(lemma.lemmatize(word) for word in punc_free.split())\n",
    "\n",
    "    return normalized  \n",
    "\n",
    "\n",
    "mask = np.array(Image.open(\"wtf.jpg\"))\n",
    "df['Text'] = df['Text'].apply(clean) \n",
    "\n",
    "def word(state):\n",
    "    stopwords = set(STOPWORDS)\n",
    "    stopwords.add(\"will\")\n",
    "    stopwords.add(\"now\")\n",
    "#     wordcloud = WordCloud(width=mask.shape[1]+300, height=mask.shape[0]+300, background_color=\"white\", max_font_size=30, min_font_size=4,\n",
    "#                           max_words=2000, stopwords=stopwords, colormap='Dark2',\n",
    "#                           random_state=2018, mask=mask).generate(\" \".join([i for i in df['Text']]))\n",
    "\n",
    "\n",
    "    wc = WordCloud(background_color=\"white\", max_words=1000, mask=mask,mode=\"RGBA\", min_font_size=7,\n",
    "               stopwords=stopwords).generate(\" \".join([i for i in df[df['Place']==state]['Text']]))\n",
    "    \n",
    " # to change the size change this 'plt.figure(figsize=(6, 6)'"
    "    plt.figure(figsize=(6, 6), facecolor='white', edgecolor='blue')\n",
    "    plt.imshow(wc, interpolation=\"bilinear\")\n",
    "    plt.axis(\"off\")\n",
    "    plt.tight_layout(pad=0)\n",
    "    plt.savefig(\"img/\"+ state +\".png\", format=\"png\")\n",
    "\n",
    "    plt.show()\n",
    "\n",
    "    \n",
    "states = df['Place'].unique()\n",
    "# word(states[0])\n",
    "for state in states:\n",
    "    word(state)"
   ]
  },
  {
   "cell_type": "code",
   "execution_count": null,
   "metadata": {},
   "outputs": [],
   "source": [
    "states[0]"
   ]
  },
  {
   "cell_type": "code",
   "execution_count": null,
   "metadata": {},
   "outputs": [],
   "source": [
    "\n",
    "N, Q = int(input()), int(input()) \n",
    "arr = [0] * N\n",
    "res = [ [ 0 for i in range(3) ] for j in range(Q) ]\n",
    "for q in range(Q):\n",
    "    res[q][0], res[q][1], res[q][2] = int(input()), int(input()), int(input())\n",
    "    # print(res[q][0], res[q][1], res[q][2])\n",
    "    \n",
    "\n",
    "for q in range(Q):\n",
    "    # First query\n",
    "    if res[q][0] == 1:\n",
    "        prev=1\n",
    "        next = 2\n",
    "        for i in range(res[q][1], res[q][2]+1):\n",
    "            # print(i)\n",
    "            arr[i-1] += prev*next\n",
    "            prev += 1\n",
    "            next += 1\n",
    "    # Second query\n",
    "    else:\n",
    "        sum = 0\n",
    "        for i in range(res[q][1], res[q][2]+1):\n",
    "            sum += arr[i-1]\n",
    "        sum %= 109\n",
    "        print(sum)"
   ]
  },
  {
   "cell_type": "code",
   "execution_count": null,
   "metadata": {},
   "outputs": [],
   "source": [
    "arr"
   ]
  },
  {
   "cell_type": "code",
   "execution_count": null,
   "metadata": {},
   "outputs": [],
   "source": [
    "t = 0\n",
    "t+= 2"
   ]
  },
  {
   "cell_type": "code",
   "execution_count": null,
   "metadata": {},
   "outputs": [],
   "source": [
    "t"
   ]
  },
  {
   "cell_type": "code",
   "execution_count": null,
   "metadata": {},
   "outputs": [],
   "source": [
    "M = 3\n"
   ]
  }
 ],
 "metadata": {
  "kernelspec": {
   "display_name": "Python 3",
   "language": "python",
   "name": "python3"
  },
  "language_info": {
   "codemirror_mode": {
    "name": "ipython",
    "version": 3
   },
   "file_extension": ".py",
   "mimetype": "text/x-python",
   "name": "python",
   "nbconvert_exporter": "python",
   "pygments_lexer": "ipython3",
   "version": "3.7.6"
  }
 },
 "nbformat": 4,
 "nbformat_minor": 4
}
